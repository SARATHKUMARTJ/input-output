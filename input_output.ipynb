{
  "nbformat": 4,
  "nbformat_minor": 0,
  "metadata": {
    "colab": {
      "provenance": [],
      "authorship_tag": "ABX9TyOyzq4bcOK+lRoZgxhCjBXv",
      "include_colab_link": true
    },
    "kernelspec": {
      "name": "python3",
      "display_name": "Python 3"
    },
    "language_info": {
      "name": "python"
    }
  },
  "cells": [
    {
      "cell_type": "markdown",
      "metadata": {
        "id": "view-in-github",
        "colab_type": "text"
      },
      "source": [
        "<a href=\"https://colab.research.google.com/github/SARATHKUMARTJ/input-output/blob/main/input_output.ipynb\" target=\"_parent\"><img src=\"https://colab.research.google.com/assets/colab-badge.svg\" alt=\"Open In Colab\"/></a>"
      ]
    },
    {
      "cell_type": "markdown",
      "source": [
        "\n",
        "$\\color{red}{\\text{1)Write a code to get the input in the given format and print the output in the given format}}$\n",
        "\n",
        "\n",
        "\n",
        "\n",
        "\n",
        "\n",
        "\n",
        "\n",
        "Input Description:\n",
        "To take an integer value\n",
        "\n",
        "Output Description:\n",
        "Print the integer value\n",
        "\n",
        "Sample Input :\n",
        "2\n",
        "Sample Output :\n",
        "2"
      ],
      "metadata": {
        "id": "sagd0_8zkkyg"
      }
    },
    {
      "cell_type": "code",
      "source": [
        "A= int(input())\n",
        "print(A)"
      ],
      "metadata": {
        "colab": {
          "base_uri": "https://localhost:8080/"
        },
        "id": "UXBkrxFcaHfa",
        "outputId": "8acff001-92fd-4d24-f438-c23b34b1a416"
      },
      "execution_count": 4,
      "outputs": [
        {
          "output_type": "stream",
          "name": "stdout",
          "text": [
            "2\n",
            "2\n"
          ]
        }
      ]
    },
    {
      "cell_type": "markdown",
      "source": [
        "$\\color{red}{\\text{2)Write a code to get the input in the given format and print the output in the given format}}$\n",
        "\n",
        "Input Description:\n",
        "A single line contains integers separated by space\n",
        "\n",
        "Output Description:\n",
        "Print the integer list of integers separated by space\n",
        "\n",
        "Sample Input :\n",
        "2 3 4 5 6 7 8\n",
        "Sample Output :\n",
        "2 3 4 5 6 7 8\n",
        "\n",
        "*   List item\n",
        "*   List item\n",
        "\n"
      ],
      "metadata": {
        "id": "DTsnxCwVkvKR"
      }
    },
    {
      "cell_type": "code",
      "source": [
        "#method:1 user input\n",
        "A = str(input())\n",
        "print(A)"
      ],
      "metadata": {
        "colab": {
          "base_uri": "https://localhost:8080/"
        },
        "id": "QxHjMWTlkysk",
        "outputId": "646cbc33-2d83-405c-966f-586a2571f9f1"
      },
      "execution_count": 8,
      "outputs": [
        {
          "output_type": "stream",
          "name": "stdout",
          "text": [
            "2 545 5 5\n",
            "2 545 5 5\n"
          ]
        }
      ]
    },
    {
      "cell_type": "code",
      "source": [
        "#method:2\n",
        "A=('2'' ' '3'' ''4'' ''6')\n",
        "print(A)"
      ],
      "metadata": {
        "colab": {
          "base_uri": "https://localhost:8080/"
        },
        "id": "XK6opGvCrkgZ",
        "outputId": "dec55d8a-4178-4f53-b391-6f8b43772783"
      },
      "execution_count": 17,
      "outputs": [
        {
          "output_type": "stream",
          "name": "stdout",
          "text": [
            "2 3 4 6\n"
          ]
        }
      ]
    },
    {
      "cell_type": "markdown",
      "source": [
        "$\\color{red}{\\text{3)Write a code to get the input in the given format and print the output in the given format}}$\n",
        "\n",
        "Input Description:\n",
        "First-line indicates two integers which are the size of array and 'K' value. Second-line indicates an integer contains elements of an array.\n",
        "\n",
        "Output Description:\n",
        "Print the taken input in the same format.\n",
        "\n",
        "Sample Input :\n",
        "5 3\n",
        "1 2 3 4 5\n",
        "Sample Output :\n",
        "5 3\n",
        "1 2 3 4 5"
      ],
      "metadata": {
        "id": "HPNMDXjUnu3t"
      }
    },
    {
      "cell_type": "code",
      "source": [
        "a = str(input())\n",
        "b = str(input())\n",
        "print(a)\n",
        "print(b)"
      ],
      "metadata": {
        "colab": {
          "base_uri": "https://localhost:8080/"
        },
        "id": "dTgxqdLGmnPX",
        "outputId": "1e2ff104-a374-47bf-e8f4-0581d5057335"
      },
      "execution_count": 12,
      "outputs": [
        {
          "output_type": "stream",
          "name": "stdout",
          "text": [
            "5 3\n",
            "1 2 3 4 5\n",
            "5 3\n",
            "1 2 3 4 5\n"
          ]
        }
      ]
    },
    {
      "cell_type": "markdown",
      "source": [
        "$\\color{red}{\\text{4)Write a code to get the input in the given format and print the output in the given format}}$\n",
        "\n",
        "Input Description:\n",
        "First-line indicates two integers separated by space. Second-line indicates two integers separated by space. Third-line indicates two integers separated by space.\n",
        "\n",
        "Output Description:\n",
        "Print the input in the same format.\n",
        "\n",
        "Sample Input :\n",
        "2 4\n",
        "\n",
        "2 4\n",
        "\n",
        "2 4\n",
        "\n",
        "Sample Output :\n",
        "\n",
        "2 4\n",
        "\n",
        "2 4\n",
        "\n",
        "2 4\n"
      ],
      "metadata": {
        "id": "OdBuu94gnxQ6"
      }
    },
    {
      "cell_type": "code",
      "source": [
        "a=str(input())\n",
        "a=str(input())\n",
        "a=str(input())\n",
        "print(a)\n",
        "print(a)\n",
        "print(a)"
      ],
      "metadata": {
        "colab": {
          "base_uri": "https://localhost:8080/"
        },
        "id": "TqEe_7RusOJk",
        "outputId": "42946403-427f-42bf-c2dc-efe0ccfbc65b"
      },
      "execution_count": 21,
      "outputs": [
        {
          "output_type": "stream",
          "name": "stdout",
          "text": [
            "2 4 \n",
            "2 4 \n",
            "2 4\n",
            "2 4\n",
            "2 4\n",
            "2 4\n"
          ]
        }
      ]
    },
    {
      "cell_type": "code",
      "source": [
        "a=('1'' ''2')\n",
        "print(a)\n",
        "print(a)\n",
        "print(a)\n"
      ],
      "metadata": {
        "colab": {
          "base_uri": "https://localhost:8080/"
        },
        "id": "_t82qj-BoDpF",
        "outputId": "4844ebae-e7e6-4db4-8502-65e9d79ddecd"
      },
      "execution_count": 18,
      "outputs": [
        {
          "output_type": "stream",
          "name": "stdout",
          "text": [
            "1 2\n",
            "1 2\n",
            "1 2\n"
          ]
        }
      ]
    },
    {
      "cell_type": "markdown",
      "source": [
        "$\\color{red}{\\text{5)Write a code to get the input in the given format and print the output in the given format}}$\n",
        "\n",
        "Input Description:\n",
        "Three integers are given in line by line.\n",
        "\n",
        "Output Description:\n",
        "Print the integers in a single line separate by space.\n",
        "\n",
        "Sample Input :\n",
        "\n",
        "2\n",
        "\n",
        "4\n",
        "\n",
        "5\n",
        "\n",
        "Sample Output :\n",
        "2 4 5'''"
      ],
      "metadata": {
        "id": "Gg9La7UQtbpt"
      }
    },
    {
      "cell_type": "code",
      "source": [
        "a =int(input())\n",
        "b =int(input())\n",
        "c =int(input())\n",
        "print(a,b,c)\n",
        "\n"
      ],
      "metadata": {
        "colab": {
          "base_uri": "https://localhost:8080/"
        },
        "id": "FUtTVXo3tSfv",
        "outputId": "d91ef689-aa26-4816-8d07-08bab59edf64"
      },
      "execution_count": 23,
      "outputs": [
        {
          "output_type": "stream",
          "name": "stdout",
          "text": [
            "1\n",
            "2\n",
            "3\n",
            "1 2 3\n"
          ]
        }
      ]
    },
    {
      "cell_type": "markdown",
      "source": [
        "$\\color{red}{\\text{6)Write a code to get the input in the given format and print the output in the given format}}$\n",
        "\n",
        "Input Description:\n",
        "First-line indicates two integers separated by space. Second-line indicates three integers separated by space. Third-line indicates three integers separated by space\n",
        "\n",
        "Output Description:\n",
        "Print the input in the same format.\n",
        "\n",
        "Sample Input :\n",
        "\n",
        "2 5\n",
        "\n",
        "2 5 6\n",
        "\n",
        "2 4 5\n",
        "\n",
        "Sample Output :\n",
        "\n",
        "2 5\n",
        "\n",
        "2 5 6\n",
        "\n",
        "2 4 5"
      ],
      "metadata": {
        "id": "s_NV0sSSt7_u"
      }
    },
    {
      "cell_type": "code",
      "source": [
        "s =input()\n",
        "a =input()\n",
        "r =input()\n",
        "print(s)\n",
        "print(a)\n",
        "print(r)"
      ],
      "metadata": {
        "colab": {
          "base_uri": "https://localhost:8080/"
        },
        "id": "qlcbkbd8uQCV",
        "outputId": "940e5c26-2c62-4656-d3a5-9273d4ed3f81"
      },
      "execution_count": 25,
      "outputs": [
        {
          "output_type": "stream",
          "name": "stdout",
          "text": [
            "2 5\n",
            "2 5 6\n",
            "2 4 6\n",
            "2 5\n",
            "2 5 6\n",
            "2 4 6\n"
          ]
        }
      ]
    },
    {
      "cell_type": "markdown",
      "source": [
        "$\\color{red}{\\text{7)Write a code to get the input in the given format and print the output in the given format}}$\n",
        "\n",
        "Input Description:\n",
        "A single line contains a string.\n",
        "\n",
        "Output Description:\n",
        "Print the characters in a string separated by space.\n",
        "\n",
        "Sample Input :\n",
        "guvi\n",
        "Sample Output :\n",
        "g u v i[link text](https://)"
      ],
      "metadata": {
        "id": "B4dcBie1vFIJ"
      }
    },
    {
      "cell_type": "code",
      "source": [
        "a = str(input())\n",
        "print(' '.join(a))"
      ],
      "metadata": {
        "colab": {
          "base_uri": "https://localhost:8080/"
        },
        "id": "16yx6cHptURd",
        "outputId": "c24eeb8f-d886-4e44-902a-0ca863ed3041"
      },
      "execution_count": 27,
      "outputs": [
        {
          "output_type": "stream",
          "name": "stdout",
          "text": [
            "sarath\n",
            "s a r a t h\n"
          ]
        }
      ]
    },
    {
      "cell_type": "markdown",
      "source": [
        "$\\color{red}{\\text{8)Write a code to get the input in the given format and print the output in the given format}}$\n",
        "Input Description:\n",
        "A single line contains three float values separated by space.\n",
        "\n",
        "Output Description:\n",
        "Print the float value separated by line.\n",
        "\n",
        "Sample Input :\n",
        "2.3 4.5 7.8\n",
        "\n",
        "Sample Output :\n",
        "\n",
        "2.3\n",
        "\n",
        "4.5\n",
        "\n",
        "7.8"
      ],
      "metadata": {
        "id": "rylZNOlQv2bB"
      }
    },
    {
      "cell_type": "code",
      "source": [
        "words = input().split()\n",
        "print(\"\\n\".join(words))"
      ],
      "metadata": {
        "colab": {
          "base_uri": "https://localhost:8080/"
        },
        "id": "I3l47rUqyohm",
        "outputId": "0871f756-18b6-485e-fb31-cca0de1a9274"
      },
      "execution_count": 40,
      "outputs": [
        {
          "output_type": "stream",
          "name": "stdout",
          "text": [
            "5.5 6.6 2.2\n",
            "5.5\n",
            "6.6\n",
            "2.2\n"
          ]
        }
      ]
    },
    {
      "cell_type": "code",
      "source": [
        "a = str(input())\n",
        "print(a.replace(' ','\\n'))"
      ],
      "metadata": {
        "colab": {
          "base_uri": "https://localhost:8080/"
        },
        "id": "I5jNO5Mdv1sJ",
        "outputId": "9bd594b5-778f-4bff-b3be-f916fd3aa90e"
      },
      "execution_count": 39,
      "outputs": [
        {
          "output_type": "stream",
          "name": "stdout",
          "text": [
            "4.5 5.5 6.6 \n",
            "4.5\n",
            "5.5\n",
            "6.6\n",
            "\n"
          ]
        }
      ]
    },
    {
      "cell_type": "markdown",
      "source": [
        "$\\color{red}{\\text{9)Write a code to get the input in the given format and print the output in the given format}}$\n",
        "\n",
        "Input Description:\n",
        "A single line contains a string.\n",
        "\n",
        "Output Description:\n",
        "Print the characters in a string separated by line.\n",
        "\n",
        "Sample Input :\n",
        "guvigeek\n",
        "\n",
        "Sample Output :\n",
        "\n",
        "g\n",
        "\n",
        "u\n",
        "\n",
        "v\n",
        "\n",
        "i\n",
        "\n",
        "g\n",
        "\n",
        "e\n",
        "\n",
        "e\n",
        "\n",
        "k\n"
      ],
      "metadata": {
        "id": "3jM_kB-8y8vM"
      }
    },
    {
      "cell_type": "code",
      "source": [
        "a = str(input())\n",
        "for i in a:\n",
        "    print(i)"
      ],
      "metadata": {
        "colab": {
          "base_uri": "https://localhost:8080/"
        },
        "id": "AFaLT5nEzcbq",
        "outputId": "b88f7be7-7823-4703-f5f5-4bb425ee3037"
      },
      "execution_count": 44,
      "outputs": [
        {
          "output_type": "stream",
          "name": "stdout",
          "text": [
            "guvigeeks\n",
            "g\n",
            "u\n",
            "v\n",
            "i\n",
            "g\n",
            "e\n",
            "e\n",
            "k\n",
            "s\n"
          ]
        }
      ]
    },
    {
      "cell_type": "markdown",
      "source": [
        "$\\color{red}{\\text{10)Write a code to get the input in the given format and print the output in the given format}}$\n",
        "\n",
        "Input Description:\n",
        "A single line contains a string.\n",
        "\n",
        "Output Description:\n",
        "Print the characters in a string separated by comma.\n",
        "\n",
        "Sample Input :\n",
        "guvi\n",
        "Sample Output :\n",
        "g,u,v,i"
      ],
      "metadata": {
        "id": "X2nIO69m0FSN"
      }
    },
    {
      "cell_type": "code",
      "source": [
        "a =str(input())\n",
        "print(','.join(a))"
      ],
      "metadata": {
        "colab": {
          "base_uri": "https://localhost:8080/"
        },
        "id": "eSfIf-dw0GsK",
        "outputId": "63dcaef7-3da3-4ec6-ecbb-669aba8b665e"
      },
      "execution_count": 54,
      "outputs": [
        {
          "output_type": "stream",
          "name": "stdout",
          "text": [
            "sarath\n",
            "s,a,r,a,t,h\n"
          ]
        }
      ]
    }
  ]
}